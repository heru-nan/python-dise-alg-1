{
 "cells": [
  {
   "cell_type": "code",
   "execution_count": 1,
   "metadata": {},
   "outputs": [],
   "source": [
    "from functions.index import huffman\n",
    "import shannonfanon\n",
    "from sys import getsizeof\n",
    "import math\n",
    "\n",
    "def convert_size(size_bytes):\n",
    "   if size_bytes == 0:\n",
    "       return \"0B\"\n",
    "   size_name = (\"B\", \"KB\", \"MB\", \"GB\", \"TB\", \"PB\", \"EB\", \"ZB\", \"YB\")\n",
    "   i = int(math.floor(math.log(size_bytes, 1024)))\n",
    "   p = math.pow(1024, i)\n",
    "   s = round(size_bytes / p, 2)\n",
    "   return \"%s %s\" % (s, size_name[i])\n",
    "\n",
    "def getSize(obj):\n",
    "    return convert_size(getsizeof(obj))"
   ]
  },
  {
   "cell_type": "code",
   "execution_count": 2,
   "metadata": {},
   "outputs": [],
   "source": [
    "from pathlib import Path\n",
    "txt = Path('./data/english.100MB').read_text(encoding='Latin-1')"
   ]
  },
  {
   "cell_type": "code",
   "execution_count": 3,
   "metadata": {},
   "outputs": [
    {
     "name": "stdout",
     "output_type": "stream",
     "text": [
      "100.0 MB\n"
     ]
    }
   ],
   "source": [
    "print(convert_size(getsizeof(txt)))"
   ]
  },
  {
   "cell_type": "code",
   "execution_count": 8,
   "metadata": {},
   "outputs": [
    {
     "ename": "NameError",
     "evalue": "name 'huffman' is not defined",
     "output_type": "error",
     "traceback": [
      "\u001b[0;31m---------------------------------------------------------------------------\u001b[0m",
      "\u001b[0;31mNameError\u001b[0m                                 Traceback (most recent call last)",
      "\u001b[1;32m/home/heru/univ/algoritmos/python-dise-alg-1/prueba.ipynb Cell 4'\u001b[0m in \u001b[0;36m<cell line: 2>\u001b[0;34m()\u001b[0m\n\u001b[1;32m      <a href='vscode-notebook-cell:/home/heru/univ/algoritmos/python-dise-alg-1/prueba.ipynb#ch0000003?line=0'>1</a>\u001b[0m toEncode \u001b[39m=\u001b[39m txt\n\u001b[0;32m----> <a href='vscode-notebook-cell:/home/heru/univ/algoritmos/python-dise-alg-1/prueba.ipynb#ch0000003?line=1'>2</a>\u001b[0m dendograma \u001b[39m=\u001b[39m huffman(toEncode)\n\u001b[1;32m      <a href='vscode-notebook-cell:/home/heru/univ/algoritmos/python-dise-alg-1/prueba.ipynb#ch0000003?line=2'>3</a>\u001b[0m \u001b[39mprint\u001b[39m(\u001b[39m\"\u001b[39m\u001b[39mdendograma\u001b[39m\u001b[39m\"\u001b[39m, getSize(dendograma))\n\u001b[1;32m      <a href='vscode-notebook-cell:/home/heru/univ/algoritmos/python-dise-alg-1/prueba.ipynb#ch0000003?line=3'>4</a>\u001b[0m encodeStr \u001b[39m=\u001b[39m \u001b[39m\"\u001b[39m\u001b[39m\"\u001b[39m\n",
      "\u001b[0;31mNameError\u001b[0m: name 'huffman' is not defined"
     ]
    }
   ],
   "source": [
    "toEncode = txt\n",
    "dendograma = (toEncode)\n",
    "print(\"dendograma\", getSize(dendograma))\n",
    "encodeStr = \"\"\n",
    "for i in toEncode:\n",
    "    encodeStr += dendograma[i]\n",
    "print(\"encodeStr\", getSize(encodeStr))"
   ]
  },
  {
   "cell_type": "code",
   "execution_count": 15,
   "metadata": {},
   "outputs": [
    {
     "name": "stdout",
     "output_type": "stream",
     "text": [
      "decodeStr 100.0 MB\n"
     ]
    }
   ],
   "source": [
    "def decodingHuffman(arr_codificado,dendograma):\n",
    "    dendograma_inverso =  {codigo: simbolo for simbolo, codigo in dendograma.items()}\n",
    "    #print(dendograma_inverso)\n",
    "\n",
    "    codigo = \"\"\n",
    "    decodeStr = \"\"\n",
    "    for bit in arr_codificado:\n",
    "        codigo += bit\n",
    "        if codigo in dendograma_inverso:\n",
    "            decodeStr = decodeStr + dendograma_inverso[codigo]\n",
    "            codigo = \"\"\n",
    "    return decodeStr\n",
    "decodeStr = decodingHuffman(encodeStr, dendograma)\n",
    "print(\"decodeStr\", getSize(decodeStr))\n"
   ]
  },
  {
   "cell_type": "code",
   "execution_count": 16,
   "metadata": {},
   "outputs": [],
   "source": [
    "dendograma=shannonfanon.codingShannonfanon(toEncode)"
   ]
  },
  {
   "cell_type": "code",
   "execution_count": 17,
   "metadata": {},
   "outputs": [
    {
     "name": "stdout",
     "output_type": "stream",
     "text": [
      "txt 100.0 MB\n",
      "encode 100.0 MB\n"
     ]
    }
   ],
   "source": [
    "def codeStrSf(shannonf,txt):\n",
    "    encode=\"\"\n",
    "    for i in txt:\n",
    "        for j in shannonf:\n",
    "           if i==j[1][0]:\n",
    "                encode+=j[1][1]\n",
    "                break\n",
    "    return txt\n",
    "\n",
    "print(\"txt\",getSize(toEncode))\n",
    "encode=codeStrSf(dendograma,toEncode)\n",
    "print(\"encode\",getSize(encode))\n",
    "    "
   ]
  },
  {
   "cell_type": "code",
   "execution_count": 18,
   "metadata": {},
   "outputs": [
    {
     "name": "stdout",
     "output_type": "stream",
     "text": [
      "dendogramaSf realizado y su tamaño es: 1.62 KB\n",
      "dendogramaH realizado y su tamaño es: 9.09 KB\n"
     ]
    }
   ],
   "source": [
    "import random\n",
    "def Experimento1(toEncode,intentos):\n",
    "    for i in range(intentos):\n",
    "        k=random.randint(0,len(toEncode))\n",
    "        porcion=\"\"\n",
    "        for j in range(0,k):\n",
    "            porcion+=toEncode[j]\n",
    "        dendogramaSf=shannonfanon.codingShannonfanon(porcion)\n",
    "        print(\"dendogramaSf realizado y su tamaño es:\",getSize(dendogramaSf))\n",
    "        dendogramaH=huffman.codingHuffman(porcion)\n",
    "        print(\"dendogramaH realizado y su tamaño es:\",getSize(dendogramaH))\n",
    "\n",
    "Experimento1(toEncode,1)"
   ]
  }
 ],
 "metadata": {
  "interpreter": {
   "hash": "560110ec15730645a4a32f2473698683d9899792f0cbbfe5488e11834ed14e29"
  },
  "kernelspec": {
   "display_name": "Python 3.8.10 ('venv': venv)",
   "language": "python",
   "name": "python3"
  },
  "language_info": {
   "codemirror_mode": {
    "name": "ipython",
    "version": 3
   },
   "file_extension": ".py",
   "mimetype": "text/x-python",
   "name": "python",
   "nbconvert_exporter": "python",
   "pygments_lexer": "ipython3",
   "version": "3.8.10"
  },
  "orig_nbformat": 4
 },
 "nbformat": 4,
 "nbformat_minor": 2
}
