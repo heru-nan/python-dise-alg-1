{
 "cells": [
  {
   "cell_type": "code",
   "execution_count": 1,
   "metadata": {},
   "outputs": [],
   "source": [
    "import huffman\n",
    "from sys import getsizeof\n",
    "import math\n",
    "\n",
    "def convert_size(size_bytes):\n",
    "   if size_bytes == 0:\n",
    "       return \"0B\"\n",
    "   size_name = (\"B\", \"KB\", \"MB\", \"GB\", \"TB\", \"PB\", \"EB\", \"ZB\", \"YB\")\n",
    "   i = int(math.floor(math.log(size_bytes, 1024)))\n",
    "   p = math.pow(1024, i)\n",
    "   s = round(size_bytes / p, 2)\n",
    "   return \"%s %s\" % (s, size_name[i])\n",
    "\n",
    "def getSize(obj):\n",
    "    return convert_size(getsizeof(obj))"
   ]
  },
  {
   "cell_type": "code",
   "execution_count": 58,
   "metadata": {},
   "outputs": [
    {
     "name": "stdout",
     "output_type": "stream",
     "text": [
      "104857674\n"
     ]
    }
   ],
   "source": [
    "from pathlib import Path\n",
    "txt = Path('./data/english.50MB').read_text(encoding='cp1252')"
   ]
  },
  {
   "cell_type": "code",
   "execution_count": 62,
   "metadata": {},
   "outputs": [
    {
     "name": "stdout",
     "output_type": "stream",
     "text": [
      "100.0 MB\n"
     ]
    }
   ],
   "source": [
    "print(convert_size(getsizeof(txt)))"
   ]
  },
  {
   "cell_type": "code",
   "execution_count": 64,
   "metadata": {},
   "outputs": [
    {
     "name": "stdout",
     "output_type": "stream",
     "text": [
      "dendograma 9.09 KB\n",
      "encodeStr 228.25 MB\n"
     ]
    }
   ],
   "source": [
    "toEncode = txt\n",
    "dendograma = huffman.codingHuffman(toEncode)\n",
    "print(\"dendograma\", getSize(dendograma))\n",
    "encodeStr = \"\"\n",
    "for i in toEncode:\n",
    "    encodeStr += dendograma[i]\n",
    "print(\"encodeStr\", getSize(encodeStr))\n"
   ]
  },
  {
   "cell_type": "code",
   "execution_count": 66,
   "metadata": {},
   "outputs": [
    {
     "name": "stdout",
     "output_type": "stream",
     "text": [
      "decodeStr 100.0 MB\n"
     ]
    }
   ],
   "source": [
    "def decodingHuffman(arr_codificado,dendograma):\n",
    "    dendograma_inverso =  {codigo: simbolo for simbolo, codigo in dendograma.items()}\n",
    "    #print(dendograma_inverso)\n",
    "\n",
    "    codigo = \"\"\n",
    "    decodeStr = \"\"\n",
    "    for bit in arr_codificado:\n",
    "        codigo += bit\n",
    "        if codigo in dendograma_inverso:\n",
    "            decodeStr = decodeStr + dendograma_inverso[codigo]\n",
    "            codigo = \"\"\n",
    "    return decodeStr\n",
    "decodeStr = decodingHuffman(encodeStr, dendograma)\n",
    "print(\"decodeStr\", getSize(decodeStr))"
   ]
  },
  {
   "cell_type": "code",
   "execution_count": 69,
   "metadata": {},
   "outputs": [
    {
     "data": {
      "text/plain": [
       "[[0.125, ['p', '']],\n",
       " [0.125, ['e', '']],\n",
       " [0.25, ['r', '']],\n",
       " [0.375, ['o', '']],\n",
       " [0.125, ['c', '']]]"
      ]
     },
     "execution_count": 69,
     "metadata": {},
     "output_type": "execute_result"
    }
   ],
   "source": [
    "import heapq\n",
    "import collections\n",
    "import numpy as np\n",
    "arr = \"perroooc\"\n",
    "\n",
    "dendograma = [[frequencia/len(arr), [simbolo, \"\"]] for simbolo, frequencia in collections.Counter(arr).items()]\n",
    "dendograma"
   ]
  },
  {
   "cell_type": "code",
   "execution_count": 70,
   "metadata": {},
   "outputs": [],
   "source": [
    "probsArr = [0.125,0.125,0.125,0.25,0.375]\n",
    "codes = ''\n",
    "def sf(probs, beg, end):\n",
    "    if(beg == end): return\n",
    "    y = beg\n",
    "    z = end\n",
    "    sumLeft = 0.0\n",
    "    sumRight = 0.0\n",
    "    while(y<=z):\n",
    "        if(sumLeft<=sumRight):\n",
    "            sumLeft += probs[y][0]\n",
    "            y += 1\n",
    "        else:\n",
    "            sumRight+=probs[z][0]\n",
    "            z -= 1\n",
    "    for h in range(beg, y):\n",
    "        probs[h][1][1] =  probs[h][1][1] + '0'\n",
    "    for h in range(y, end + 1):\n",
    "        probs[h][1][1] =  probs[h][1][1] + \"1\"\n",
    "    \n",
    "    sf(probs, beg, y-1)\n",
    "    sf(probs, y, end)\n",
    "\n",
    "\n",
    "sf(dendograma, 0, len(dendograma)-1)\n",
    "    \n",
    "        "
   ]
  },
  {
   "cell_type": "code",
   "execution_count": 71,
   "metadata": {},
   "outputs": [
    {
     "data": {
      "text/plain": [
       "[[0.125, ['p', '000']],\n",
       " [0.125, ['e', '001']],\n",
       " [0.25, ['r', '01']],\n",
       " [0.375, ['o', '10']],\n",
       " [0.125, ['c', '11']]]"
      ]
     },
     "execution_count": 71,
     "metadata": {},
     "output_type": "execute_result"
    }
   ],
   "source": [
    "dendograma"
   ]
  },
  {
   "cell_type": "code",
   "execution_count": null,
   "metadata": {},
   "outputs": [],
   "source": []
  }
 ],
 "metadata": {
  "interpreter": {
   "hash": "a0b1380c948fcb1d5b6bdb2a2fc36df975a361f04a31d0093838a425a38a9023"
  },
  "kernelspec": {
   "display_name": "Python 3.8.10 ('venv': venv)",
   "language": "python",
   "name": "python3"
  },
  "language_info": {
   "codemirror_mode": {
    "name": "ipython",
    "version": 3
   },
   "file_extension": ".py",
   "mimetype": "text/x-python",
   "name": "python",
   "nbconvert_exporter": "python",
   "pygments_lexer": "ipython3",
   "version": "3.8.10"
  },
  "orig_nbformat": 4
 },
 "nbformat": 4,
 "nbformat_minor": 2
}
