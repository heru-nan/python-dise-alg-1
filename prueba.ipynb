{
 "cells": [
  {
   "cell_type": "code",
   "execution_count": 244,
   "metadata": {},
   "outputs": [],
   "source": [
    "import huffman\n",
    "from sys import getsizeof\n",
    "import math\n",
    "\n",
    "def convert_size(size_bytes):\n",
    "   if size_bytes == 0:\n",
    "       return \"0B\"\n",
    "   size_name = (\"B\", \"KB\", \"MB\", \"GB\", \"TB\", \"PB\", \"EB\", \"ZB\", \"YB\")\n",
    "   i = int(math.floor(math.log(size_bytes, 1024)))\n",
    "   p = math.pow(1024, i)\n",
    "   s = round(size_bytes / p, 2)\n",
    "   return \"%s %s\" % (s, size_name[i])\n",
    "\n",
    "def getSize(obj):\n",
    "    return convert_size(getsizeof(obj))"
   ]
  },
  {
   "cell_type": "code",
   "execution_count": 245,
   "metadata": {},
   "outputs": [
    {
     "ename": "FileNotFoundError",
     "evalue": "[Errno 2] No such file or directory: 'data/dna.txt'",
     "output_type": "error",
     "traceback": [
      "\u001b[0;31m---------------------------------------------------------------------------\u001b[0m",
      "\u001b[0;31mFileNotFoundError\u001b[0m                         Traceback (most recent call last)",
      "\u001b[1;32m/mnt/c/Users/juanp/Desktop/analisis de algoritmos/PP2/python-dise-alg-1/prueba.ipynb Cell 2'\u001b[0m in \u001b[0;36m<cell line: 2>\u001b[0;34m()\u001b[0m\n\u001b[1;32m      <a href='vscode-notebook-cell://wsl%2Bubuntu/mnt/c/Users/juanp/Desktop/analisis%20de%20algoritmos/PP2/python-dise-alg-1/prueba.ipynb#ch0000001vscode-remote?line=0'>1</a>\u001b[0m \u001b[39mfrom\u001b[39;00m \u001b[39mpathlib\u001b[39;00m \u001b[39mimport\u001b[39;00m Path\n\u001b[0;32m----> <a href='vscode-notebook-cell://wsl%2Bubuntu/mnt/c/Users/juanp/Desktop/analisis%20de%20algoritmos/PP2/python-dise-alg-1/prueba.ipynb#ch0000001vscode-remote?line=1'>2</a>\u001b[0m txt \u001b[39m=\u001b[39m Path(\u001b[39m'\u001b[39;49m\u001b[39m./data/dna.txt\u001b[39;49m\u001b[39m'\u001b[39;49m)\u001b[39m.\u001b[39;49mread_text(encoding\u001b[39m=\u001b[39;49m\u001b[39m'\u001b[39;49m\u001b[39mcp1252\u001b[39;49m\u001b[39m'\u001b[39;49m)\n",
      "File \u001b[0;32m/usr/lib/python3.8/pathlib.py:1236\u001b[0m, in \u001b[0;36mPath.read_text\u001b[0;34m(self, encoding, errors)\u001b[0m\n\u001b[1;32m   <a href='file:///usr/lib/python3.8/pathlib.py?line=1231'>1232</a>\u001b[0m \u001b[39mdef\u001b[39;00m \u001b[39mread_text\u001b[39m(\u001b[39mself\u001b[39m, encoding\u001b[39m=\u001b[39m\u001b[39mNone\u001b[39;00m, errors\u001b[39m=\u001b[39m\u001b[39mNone\u001b[39;00m):\n\u001b[1;32m   <a href='file:///usr/lib/python3.8/pathlib.py?line=1232'>1233</a>\u001b[0m     \u001b[39m\"\"\"\u001b[39;00m\n\u001b[1;32m   <a href='file:///usr/lib/python3.8/pathlib.py?line=1233'>1234</a>\u001b[0m \u001b[39m    Open the file in text mode, read it, and close the file.\u001b[39;00m\n\u001b[1;32m   <a href='file:///usr/lib/python3.8/pathlib.py?line=1234'>1235</a>\u001b[0m \u001b[39m    \"\"\"\u001b[39;00m\n\u001b[0;32m-> <a href='file:///usr/lib/python3.8/pathlib.py?line=1235'>1236</a>\u001b[0m     \u001b[39mwith\u001b[39;00m \u001b[39mself\u001b[39;49m\u001b[39m.\u001b[39;49mopen(mode\u001b[39m=\u001b[39;49m\u001b[39m'\u001b[39;49m\u001b[39mr\u001b[39;49m\u001b[39m'\u001b[39;49m, encoding\u001b[39m=\u001b[39;49mencoding, errors\u001b[39m=\u001b[39;49merrors) \u001b[39mas\u001b[39;00m f:\n\u001b[1;32m   <a href='file:///usr/lib/python3.8/pathlib.py?line=1236'>1237</a>\u001b[0m         \u001b[39mreturn\u001b[39;00m f\u001b[39m.\u001b[39mread()\n",
      "File \u001b[0;32m/usr/lib/python3.8/pathlib.py:1222\u001b[0m, in \u001b[0;36mPath.open\u001b[0;34m(self, mode, buffering, encoding, errors, newline)\u001b[0m\n\u001b[1;32m   <a href='file:///usr/lib/python3.8/pathlib.py?line=1219'>1220</a>\u001b[0m \u001b[39mif\u001b[39;00m \u001b[39mself\u001b[39m\u001b[39m.\u001b[39m_closed:\n\u001b[1;32m   <a href='file:///usr/lib/python3.8/pathlib.py?line=1220'>1221</a>\u001b[0m     \u001b[39mself\u001b[39m\u001b[39m.\u001b[39m_raise_closed()\n\u001b[0;32m-> <a href='file:///usr/lib/python3.8/pathlib.py?line=1221'>1222</a>\u001b[0m \u001b[39mreturn\u001b[39;00m io\u001b[39m.\u001b[39;49mopen(\u001b[39mself\u001b[39;49m, mode, buffering, encoding, errors, newline,\n\u001b[1;32m   <a href='file:///usr/lib/python3.8/pathlib.py?line=1222'>1223</a>\u001b[0m                opener\u001b[39m=\u001b[39;49m\u001b[39mself\u001b[39;49m\u001b[39m.\u001b[39;49m_opener)\n",
      "File \u001b[0;32m/usr/lib/python3.8/pathlib.py:1078\u001b[0m, in \u001b[0;36mPath._opener\u001b[0;34m(self, name, flags, mode)\u001b[0m\n\u001b[1;32m   <a href='file:///usr/lib/python3.8/pathlib.py?line=1075'>1076</a>\u001b[0m \u001b[39mdef\u001b[39;00m \u001b[39m_opener\u001b[39m(\u001b[39mself\u001b[39m, name, flags, mode\u001b[39m=\u001b[39m\u001b[39m0o666\u001b[39m):\n\u001b[1;32m   <a href='file:///usr/lib/python3.8/pathlib.py?line=1076'>1077</a>\u001b[0m     \u001b[39m# A stub for the opener argument to built-in open()\u001b[39;00m\n\u001b[0;32m-> <a href='file:///usr/lib/python3.8/pathlib.py?line=1077'>1078</a>\u001b[0m     \u001b[39mreturn\u001b[39;00m \u001b[39mself\u001b[39;49m\u001b[39m.\u001b[39;49m_accessor\u001b[39m.\u001b[39;49mopen(\u001b[39mself\u001b[39;49m, flags, mode)\n",
      "\u001b[0;31mFileNotFoundError\u001b[0m: [Errno 2] No such file or directory: 'data/dna.txt'"
     ]
    }
   ],
   "source": [
    "from pathlib import Path\n",
    "txt = Path('./data/dna.100MB').read_text(encoding='cp1252')"
   ]
  },
  {
   "cell_type": "code",
   "execution_count": null,
   "metadata": {},
   "outputs": [
    {
     "name": "stdout",
     "output_type": "stream",
     "text": [
      "59.0 B\n"
     ]
    }
   ],
   "source": [
    "print(convert_size(getsizeof(txt)))"
   ]
  },
  {
   "cell_type": "code",
   "execution_count": null,
   "metadata": {},
   "outputs": [
    {
     "name": "stdout",
     "output_type": "stream",
     "text": [
      "dendograma 232.0 B\n",
      "encodeStr 69.0 B\n"
     ]
    }
   ],
   "source": [
    "toEncode = txt\n",
    "dendograma = huffman.codingHuffman(toEncode)\n",
    "print(\"dendograma\", getSize(dendograma))\n",
    "encodeStr = \"\"\n",
    "for i in toEncode:\n",
    "    encodeStr += dendograma[i]\n",
    "print(\"encodeStr\", getSize(encodeStr))\n"
   ]
  },
  {
   "cell_type": "code",
   "execution_count": null,
   "metadata": {},
   "outputs": [
    {
     "name": "stdout",
     "output_type": "stream",
     "text": [
      "decodeStr 59.0 B\n"
     ]
    }
   ],
   "source": [
    "def decodingHuffman(arr_codificado,dendograma):\n",
    "    dendograma_inverso =  {codigo: simbolo for simbolo, codigo in dendograma.items()}\n",
    "    #print(dendograma_inverso)\n",
    "\n",
    "    codigo = \"\"\n",
    "    decodeStr = \"\"\n",
    "    for bit in arr_codificado:\n",
    "        codigo += bit\n",
    "        if codigo in dendograma_inverso:\n",
    "            decodeStr = decodeStr + dendograma_inverso[codigo]\n",
    "            codigo = \"\"\n",
    "    return decodeStr\n",
    "decodeStr = decodingHuffman(encodeStr, dendograma)\n",
    "print(\"decodeStr\", getSize(decodeStr))\n"
   ]
  },
  {
   "cell_type": "code",
   "execution_count": null,
   "metadata": {},
   "outputs": [],
   "source": [
    "import heapq\n",
    "import collections\n",
    "import numpy as np\n",
    "arr = toEncode\n",
    "\n",
    "dendograma = [[frequencia/len(arr), [simbolo, \"\"]] for simbolo, frequencia in collections.Counter(arr).items()]\n",
    "\n",
    "n=len(dendograma)\n",
    "for i in range (n):\n",
    "     for j in range(0, n-i-1):\n",
    "         if dendograma[j][0]<dendograma[j+1][0]:\n",
    "             dendograma[j], dendograma[j+1] = dendograma[j+1], dendograma[j]\n",
    "         "
   ]
  },
  {
   "cell_type": "code",
   "execution_count": null,
   "metadata": {},
   "outputs": [],
   "source": [
    "codes = ''\n",
    "def sf(probs, beg, end):\n",
    "    if(beg == end): return\n",
    "    y = beg\n",
    "    z = end\n",
    "    sumLeft = 0.0\n",
    "    sumRight = 0.0\n",
    "    while(y<=z):\n",
    "        if(sumLeft<=sumRight):\n",
    "            sumLeft += probs[y][0]\n",
    "            y += 1\n",
    "        else:\n",
    "            sumRight+=probs[z][0]\n",
    "            z -= 1\n",
    "    for h in range(beg, y):\n",
    "        probs[h][1][1] =  probs[h][1][1] + \"1\"\n",
    "    for h in range(y, end + 1):\n",
    "        probs[h][1][1] =  probs[h][1][1] + \"0\"\n",
    "    \n",
    "    sf(probs, beg, y-1)\n",
    "    sf(probs, y, end)\n",
    "\n",
    "\n",
    "sf(dendograma, 0, len(dendograma)-1)\n",
    "    \n",
    "        "
   ]
  },
  {
   "cell_type": "code",
   "execution_count": null,
   "metadata": {},
   "outputs": [
    {
     "name": "stdout",
     "output_type": "stream",
     "text": [
      "txt 59.0 B\n",
      "encode 69.0 B\n",
      "11011101001000101011\n"
     ]
    }
   ],
   "source": [
    "def codeStrSf(shannonf,txt):\n",
    "    encode=\"\"\n",
    "    for i in txt:\n",
    "        for j in shannonf:\n",
    "            if i==j[1][0]:\n",
    "                encode+=j[1][1]\n",
    "                break\n",
    "    return encode\n",
    "\n",
    "print(\"txt\",getSize(toEncode))\n",
    "encode=codeStrSf(dendograma,toEncode)\n",
    "print(\"encode\",getSize(encode))\n",
    "    "
   ]
  },
  {
   "cell_type": "code",
   "execution_count": null,
   "metadata": {},
   "outputs": [],
   "source": []
  }
 ],
 "metadata": {
  "interpreter": {
   "hash": "916dbcbb3f70747c44a77c7bcd40155683ae19c65e1c03b4aa3499c5328201f1"
  },
  "kernelspec": {
   "display_name": "Python 3.8.10 64-bit",
   "language": "python",
   "name": "python3"
  },
  "language_info": {
   "codemirror_mode": {
    "name": "ipython",
    "version": 3
   },
   "file_extension": ".py",
   "mimetype": "text/x-python",
   "name": "python",
   "nbconvert_exporter": "python",
   "pygments_lexer": "ipython3",
   "version": "3.8.10"
  },
  "orig_nbformat": 4
 },
 "nbformat": 4,
 "nbformat_minor": 2
}
