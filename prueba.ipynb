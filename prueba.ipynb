{
 "cells": [
  {
   "cell_type": "code",
   "execution_count": 11,
   "metadata": {},
   "outputs": [],
   "source": [
    "from functions.index import huffman,shannon_fano\n",
    "from sys import getsizeof\n",
    "import math\n",
    "\n",
    "def convert_size(size_bytes):\n",
    "   if size_bytes == 0:\n",
    "       return \"0B\"\n",
    "   size_name = (\"B\", \"KB\", \"MB\", \"GB\", \"TB\", \"PB\", \"EB\", \"ZB\", \"YB\")\n",
    "   i = int(math.floor(math.log(size_bytes, 1024)))\n",
    "   p = math.pow(1024, i)\n",
    "   s = round(size_bytes / p, 2)\n",
    "   return \"%s %s\" % (s, size_name[i])\n",
    "\n",
    "def getSize(obj):\n",
    "    return convert_size(getsizeof(obj))"
   ]
  },
  {
   "cell_type": "code",
   "execution_count": 12,
   "metadata": {},
   "outputs": [],
   "source": [
    "from pathlib import Path\n",
    "txt = Path('./data/DNA.100MB').read_text(encoding='Latin-1')"
   ]
  },
  {
   "cell_type": "code",
   "execution_count": 13,
   "metadata": {},
   "outputs": [
    {
     "name": "stdout",
     "output_type": "stream",
     "text": [
      "100.0 MB\n"
     ]
    }
   ],
   "source": [
    "print(convert_size(getsizeof(txt)))"
   ]
  },
  {
   "cell_type": "code",
   "execution_count": 14,
   "metadata": {},
   "outputs": [
    {
     "name": "stdout",
     "output_type": "stream",
     "text": [
      "dendograma 640.0 B\n",
      "encodeStr 220.53 MB\n"
     ]
    }
   ],
   "source": [
    "toEncode = txt\n",
    "dendograma = huffman(toEncode)\n",
    "print(\"dendograma\", getSize(dendograma))\n",
    "encodeStr = \"\"\n",
    "for i in toEncode:\n",
    "    encodeStr += dendograma[i]\n",
    "print(\"encodeStr\", getSize(encodeStr))"
   ]
  },
  {
   "cell_type": "code",
   "execution_count": 15,
   "metadata": {},
   "outputs": [
    {
     "name": "stdout",
     "output_type": "stream",
     "text": [
      "decodeStr 100.0 MB\n"
     ]
    }
   ],
   "source": [
    "def decodingHuffman(arr_codificado,dendograma):\n",
    "    dendograma_inverso =  {codigo: simbolo for simbolo, codigo in dendograma.items()}\n",
    "    #print(dendograma_inverso)\n",
    "\n",
    "    codigo = \"\"\n",
    "    decodeStr = \"\"\n",
    "    for bit in arr_codificado:\n",
    "        codigo += bit\n",
    "        if codigo in dendograma_inverso:\n",
    "            decodeStr = decodeStr + dendograma_inverso[codigo]\n",
    "            codigo = \"\"\n",
    "    return decodeStr\n",
    "decodeStr = decodingHuffman(encodeStr, dendograma)\n",
    "print(\"decodeStr\", getSize(decodeStr))\n"
   ]
  },
  {
   "cell_type": "code",
   "execution_count": 16,
   "metadata": {},
   "outputs": [],
   "source": [
    "dendograma=shannon_fano(toEncode)"
   ]
  },
  {
   "cell_type": "code",
   "execution_count": 17,
   "metadata": {},
   "outputs": [
    {
     "name": "stdout",
     "output_type": "stream",
     "text": [
      "txt 100.0 MB\n",
      "encode 100.0 MB\n"
     ]
    }
   ],
   "source": [
    "def codeStrSf(dendograma,txt):\n",
    "    encode=\"\"\n",
    "    for i in txt:\n",
    "        encode += dendograma[i]\n",
    "    return encode\n",
    "\n",
    "print(\"txt\",getSize(toEncode))\n",
    "encode=codeStrSf(dendograma,toEncode)\n",
    "print(\"encode\",getSize(encode))\n",
    "    "
   ]
  },
  {
   "cell_type": "code",
   "execution_count": 18,
   "metadata": {},
   "outputs": [
    {
     "name": "stdout",
     "output_type": "stream",
     "text": [
      "dendogramaSf realizado y su tamaño es: 640.0 B\n",
      "dendogramaH realizado y su tamaño es: 640.0 B\n"
     ]
    }
   ],
   "source": [
    "import random\n",
    "def Experimento1(toEncode,intentos):\n",
    "    for i in range(intentos):\n",
    "        k=random.randint(0,len(toEncode))\n",
    "        porcion=\"\"\n",
    "        for j in range(0,k):\n",
    "            porcion+=toEncode[j]\n",
    "        dendogramaSf=shannon_fano(porcion)\n",
    "        print(\"dendogramaSf realizado y su tamaño es:\",getSize(dendogramaSf))\n",
    "        dendogramaH=huffman(porcion)\n",
    "        print(\"dendogramaH realizado y su tamaño es:\",getSize(dendogramaH))\n",
    "\n",
    "Experimento1(toEncode,1)"
   ]
  }
 ],
 "metadata": {
  "interpreter": {
   "hash": "916dbcbb3f70747c44a77c7bcd40155683ae19c65e1c03b4aa3499c5328201f1"
  },
  "kernelspec": {
   "display_name": "Python 3.8.10 64-bit",
   "language": "python",
   "name": "python3"
  },
  "language_info": {
   "codemirror_mode": {
    "name": "ipython",
    "version": 3
   },
   "file_extension": ".py",
   "mimetype": "text/x-python",
   "name": "python",
   "nbconvert_exporter": "python",
   "pygments_lexer": "ipython3",
   "version": "3.8.10"
  },
  "orig_nbformat": 4
 },
 "nbformat": 4,
 "nbformat_minor": 2
}
