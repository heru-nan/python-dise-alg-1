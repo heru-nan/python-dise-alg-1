{
 "cells": [
  {
   "cell_type": "code",
   "execution_count": null,
   "metadata": {},
   "outputs": [],
   "source": [
    "import huffman\n",
    "from sys import getsizeof\n",
    "import math\n",
    "\n",
    "def convert_size(size_bytes):\n",
    "   if size_bytes == 0:\n",
    "       return \"0B\"\n",
    "   size_name = (\"B\", \"KB\", \"MB\", \"GB\", \"TB\", \"PB\", \"EB\", \"ZB\", \"YB\")\n",
    "   i = int(math.floor(math.log(size_bytes, 1024)))\n",
    "   p = math.pow(1024, i)\n",
    "   s = round(size_bytes / p, 2)\n",
    "   return \"%s %s\" % (s, size_name[i])\n",
    "\n",
    "def getSize(obj):\n",
    "    return convert_size(getsizeof(obj))"
   ]
  },
  {
   "cell_type": "code",
   "execution_count": null,
   "metadata": {},
   "outputs": [],
   "source": [
    "from pathlib import Path\n",
    "txt = Path('./data/english.50MB').read_text(encoding='Latin-1')"
   ]
  },
  {
   "cell_type": "code",
   "execution_count": null,
   "metadata": {},
   "outputs": [],
   "source": [
    "print(convert_size(getsizeof(txt)))"
   ]
  },
  {
   "cell_type": "code",
   "execution_count": null,
   "metadata": {},
   "outputs": [],
   "source": [
    "toEncode = txt\n",
    "dendograma = huffman.codingHuffman(toEncode)\n",
    "print(\"dendograma\", getSize(dendograma))\n",
    "encodeStr = \"\"\n",
    "for i in toEncode:\n",
    "    encodeStr += dendograma[i]\n",
    "print(\"encodeStr\", getSize(encodeStr))\n"
   ]
  },
  {
   "cell_type": "code",
   "execution_count": null,
   "metadata": {},
   "outputs": [],
   "source": [
    "def decodingHuffman(arr_codificado,dendograma):\n",
    "    dendograma_inverso =  {codigo: simbolo for simbolo, codigo in dendograma.items()}\n",
    "    #print(dendograma_inverso)\n",
    "\n",
    "    codigo = \"\"\n",
    "    decodeStr = \"\"\n",
    "    for bit in arr_codificado:\n",
    "        codigo += bit\n",
    "        if codigo in dendograma_inverso:\n",
    "            decodeStr = decodeStr + dendograma_inverso[codigo]\n",
    "            codigo = \"\"\n",
    "    return decodeStr\n",
    "decodeStr = decodingHuffman(encodeStr, dendograma)\n",
    "print(\"decodeStr\", getSize(decodeStr))\n"
   ]
  },
  {
   "cell_type": "code",
   "execution_count": null,
   "metadata": {},
   "outputs": [],
   "source": [
    "import collections\n",
    "def probsf(toEncode):\n",
    "    arr = toEncode\n",
    "\n",
    "    dendograma = [[frequencia/len(arr), [simbolo, \"\"]] for simbolo, frequencia in collections.Counter(arr).items()]\n",
    "\n",
    "    n=len(dendograma)\n",
    "    for i in range (n):\n",
    "        for j in range(0, n-i-1):\n",
    "            if dendograma[j][0]<dendograma[j+1][0]:\n",
    "                dendograma[j], dendograma[j+1] = dendograma[j+1], dendograma[j]\n",
    "    return dendograma\n",
    "dendograma=probsf(toEncode)"
   ]
  },
  {
   "cell_type": "code",
   "execution_count": null,
   "metadata": {},
   "outputs": [],
   "source": [
    "codes = ''\n",
    "def sf(probs, beg, end):\n",
    "    if(beg == end): return\n",
    "    y = beg\n",
    "    z = end\n",
    "    sumLeft = 0.0\n",
    "    sumRight = 0.0\n",
    "    while(y<=z):\n",
    "        if(sumLeft<=sumRight):\n",
    "            sumLeft += probs[y][0]\n",
    "            y += 1\n",
    "        else:\n",
    "            sumRight+=probs[z][0]\n",
    "            z -= 1\n",
    "    for h in range(beg, y):\n",
    "        probs[h][1][1] =  probs[h][1][1] + \"1\"\n",
    "    for h in range(y, end + 1):\n",
    "        probs[h][1][1] =  probs[h][1][1] + \"0\"\n",
    "    \n",
    "    sf(probs, beg, y-1)\n",
    "    sf(probs, y, end)\n",
    "\n",
    "\n",
    "sf(dendograma, 0, len(dendograma)-1)\n",
    "    \n",
    "        "
   ]
  },
  {
   "cell_type": "code",
   "execution_count": null,
   "metadata": {},
   "outputs": [],
   "source": [
    "def codeStrSf(shannonf,txt):\n",
    "    encode=\"\"\n",
    "    for i in txt:\n",
    "        for j in shannonf:\n",
    "            if i==j[1][0]:\n",
    "                encode+=j[1][1]\n",
    "                break\n",
    "    return encode\n",
    "\n",
    "print(\"txt\",getSize(toEncode))\n",
    "encode=codeStrSf(dendograma,toEncode)\n",
    "print(\"encode\",getSize(encode))\n",
    "    "
   ]
  },
  {
   "cell_type": "code",
   "execution_count": 82,
   "metadata": {},
   "outputs": [
    {
     "name": "stdout",
     "output_type": "stream",
     "text": [
      "52428800\n",
      "48626338\n",
      "dendogramaSf 16.0 B\n",
      "dendogramaH 9.09 KB\n"
     ]
    }
   ],
   "source": [
    "import random\n",
    "def Experimento1(toEncode,intentos):\n",
    "    for i in range(intentos):\n",
    "        k=random.randint(0,len(toEncode))\n",
    "        porcion=\"\"\n",
    "        for j in range(0,k):\n",
    "            porcion+=toEncode[j]\n",
    "        dendogramaSf=probsf(porcion)\n",
    "        print(\"dendogramaSf\",getSize(sf(dendogramaSf, 0, len(dendogramaSf)-1)))\n",
    "        dendogramaH= huffman.codingHuffman(toEncode)\n",
    "        print(\"dendogramaH\",getSize(dendogramaH))\n",
    "\n",
    "Experimento1(toEncode,1)\n",
    "\n",
    "\n",
    "\n"
   ]
  },
  {
   "cell_type": "code",
   "execution_count": null,
   "metadata": {},
   "outputs": [],
   "source": []
  }
 ],
 "metadata": {
  "interpreter": {
   "hash": "916dbcbb3f70747c44a77c7bcd40155683ae19c65e1c03b4aa3499c5328201f1"
  },
  "kernelspec": {
   "display_name": "Python 3.8.10 64-bit",
   "language": "python",
   "name": "python3"
  },
  "language_info": {
   "codemirror_mode": {
    "name": "ipython",
    "version": 3
   },
   "file_extension": ".py",
   "mimetype": "text/x-python",
   "name": "python",
   "nbconvert_exporter": "python",
   "pygments_lexer": "ipython3",
   "version": "3.8.10"
  },
  "orig_nbformat": 4
 },
 "nbformat": 4,
 "nbformat_minor": 2
}
