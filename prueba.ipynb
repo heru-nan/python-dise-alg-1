{
 "cells": [
  {
   "cell_type": "code",
   "execution_count": 1,
   "metadata": {},
   "outputs": [],
   "source": [
    "from functions.index import huffman,shannon_fano\n",
    "from sys import getsizeof\n",
    "import math\n",
    "\n",
    "def convert_size(size_bytes):\n",
    "   if size_bytes == 0:\n",
    "       return \"0B\"\n",
    "   size_name = (\"B\", \"KB\", \"MB\", \"GB\", \"TB\", \"PB\", \"EB\", \"ZB\", \"YB\")\n",
    "   i = int(math.floor(math.log(size_bytes, 1024)))\n",
    "   p = math.pow(1024, i)\n",
    "   s = round(size_bytes / p, 2)\n",
    "   return \"%s %s\" % (s, size_name[i])\n",
    "\n",
    "def getSize(obj):\n",
    "    return convert_size(getsizeof(obj))"
   ]
  },
  {
   "cell_type": "code",
   "execution_count": 2,
   "metadata": {},
   "outputs": [],
   "source": [
    "from pathlib import Path\n",
    "txt = Path('./data/english.100MB').read_text(encoding='Latin-1')"
   ]
  },
  {
   "cell_type": "code",
   "execution_count": 3,
   "metadata": {},
   "outputs": [
    {
     "name": "stdout",
     "output_type": "stream",
     "text": [
      "100.0 MB\n"
     ]
    }
   ],
   "source": [
    "print(convert_size(getsizeof(txt)))"
   ]
  },
  {
   "cell_type": "code",
   "execution_count": 4,
   "metadata": {},
   "outputs": [
    {
     "name": "stdout",
     "output_type": "stream",
     "text": [
      "dendograma 640.0 B\n",
      "16\n"
     ]
    },
    {
     "ename": "KeyboardInterrupt",
     "evalue": "",
     "output_type": "error",
     "traceback": [
      "\u001b[0;31m---------------------------------------------------------------------------\u001b[0m",
      "\u001b[0;31mKeyboardInterrupt\u001b[0m                         Traceback (most recent call last)",
      "\u001b[1;32m/mnt/c/Users/juanp/Desktop/analisis de algoritmos/PP2/python-dise-alg-1/prueba.ipynb Cell 4'\u001b[0m in \u001b[0;36m<cell line: 6>\u001b[0;34m()\u001b[0m\n\u001b[1;32m      <a href='vscode-notebook-cell://wsl%2Bubuntu/mnt/c/Users/juanp/Desktop/analisis%20de%20algoritmos/PP2/python-dise-alg-1/prueba.ipynb#ch0000003vscode-remote?line=4'>5</a>\u001b[0m \u001b[39mprint\u001b[39m(\u001b[39mlen\u001b[39m(dendograma))\n\u001b[1;32m      <a href='vscode-notebook-cell://wsl%2Bubuntu/mnt/c/Users/juanp/Desktop/analisis%20de%20algoritmos/PP2/python-dise-alg-1/prueba.ipynb#ch0000003vscode-remote?line=5'>6</a>\u001b[0m \u001b[39mfor\u001b[39;00m i \u001b[39min\u001b[39;00m toEncode:\n\u001b[0;32m----> <a href='vscode-notebook-cell://wsl%2Bubuntu/mnt/c/Users/juanp/Desktop/analisis%20de%20algoritmos/PP2/python-dise-alg-1/prueba.ipynb#ch0000003vscode-remote?line=6'>7</a>\u001b[0m     encodeStr \u001b[39m+\u001b[39m\u001b[39m=\u001b[39m dendograma[i]\n\u001b[1;32m      <a href='vscode-notebook-cell://wsl%2Bubuntu/mnt/c/Users/juanp/Desktop/analisis%20de%20algoritmos/PP2/python-dise-alg-1/prueba.ipynb#ch0000003vscode-remote?line=7'>8</a>\u001b[0m \u001b[39mprint\u001b[39m(\u001b[39m\"\u001b[39m\u001b[39mencodeStr\u001b[39m\u001b[39m\"\u001b[39m, getSize(encodeStr))\n",
      "\u001b[0;31mKeyboardInterrupt\u001b[0m: "
     ]
    }
   ],
   "source": [
    "toEncode = txt\n",
    "dendograma = huffman(toEncode)\n",
    "print(\"dendograma\", getSize(dendograma))\n",
    "encodeStr = \"\"\n",
    "print(len(dendograma))\n",
    "for i in toEncode:\n",
    "    encodeStr += dendograma[i]\n",
    "print(\"encodeStr\", getSize(encodeStr))"
   ]
  },
  {
   "cell_type": "code",
   "execution_count": null,
   "metadata": {},
   "outputs": [
    {
     "name": "stdout",
     "output_type": "stream",
     "text": [
      "decodeStr 100.0 MB\n"
     ]
    }
   ],
   "source": [
    "def decodingHuffman(arr_codificado,dendograma):\n",
    "    dendograma_inverso =  {codigo: simbolo for simbolo, codigo in dendograma.items()}\n",
    "    #print(dendograma_inverso)\n",
    "\n",
    "    codigo = \"\"\n",
    "    decodeStr = \"\"\n",
    "    for bit in arr_codificado:\n",
    "        codigo += bit\n",
    "        if codigo in dendograma_inverso:\n",
    "            decodeStr = decodeStr + dendograma_inverso[codigo]\n",
    "            codigo = \"\"\n",
    "    return decodeStr\n",
    "decodeStr = decodingHuffman(encodeStr, dendograma)\n",
    "print(\"decodeStr\", getSize(decodeStr))\n"
   ]
  },
  {
   "cell_type": "code",
   "execution_count": null,
   "metadata": {},
   "outputs": [],
   "source": [
    "dendograma=shannon_fano(toEncode)"
   ]
  },
  {
   "cell_type": "code",
   "execution_count": null,
   "metadata": {},
   "outputs": [
    {
     "name": "stdout",
     "output_type": "stream",
     "text": [
      "txt 100.0 MB\n",
      "encode 100.0 MB\n"
     ]
    }
   ],
   "source": [
    "def codeStrSf(dendograma,txt):\n",
    "    encode=\"\"\n",
    "    for i in txt:\n",
    "        encode += dendograma[i]\n",
    "    return encode\n",
    "\n",
    "print(\"txt\",getSize(toEncode))\n",
    "encode=codeStrSf(dendograma,toEncode)\n",
    "print(\"encode\",getSize(encode))\n",
    "    "
   ]
  },
  {
   "cell_type": "code",
   "execution_count": null,
   "metadata": {},
   "outputs": [
    {
     "name": "stdout",
     "output_type": "stream",
     "text": [
      "dendogramaSf realizado y su tamaño es: 640.0 B\n",
      "dendogramaH realizado y su tamaño es: 640.0 B\n"
     ]
    }
   ],
   "source": [
    "import random\n",
    "def Experimento1(toEncode,intentos):\n",
    "    for i in range(intentos):\n",
    "        k=random.randint(0,len(toEncode))\n",
    "        porcion=\"\"\n",
    "        for j in range(0,k):\n",
    "            porcion+=toEncode[j]\n",
    "        dendogramaSf=shannon_fano(porcion)\n",
    "        print(\"dendogramaSf realizado y su tamaño es:\",getSize(dendogramaSf))\n",
    "        dendogramaH=huffman(porcion)\n",
    "        print(\"dendogramaH realizado y su tamaño es:\",getSize(dendogramaH))\n",
    "\n",
    "Experimento1(toEncode,1)"
   ]
  }
 ],
 "metadata": {
  "interpreter": {
   "hash": "916dbcbb3f70747c44a77c7bcd40155683ae19c65e1c03b4aa3499c5328201f1"
  },
  "kernelspec": {
   "display_name": "Python 3.8.10 64-bit",
   "language": "python",
   "name": "python3"
  },
  "language_info": {
   "codemirror_mode": {
    "name": "ipython",
    "version": 3
   },
   "file_extension": ".py",
   "mimetype": "text/x-python",
   "name": "python",
   "nbconvert_exporter": "python",
   "pygments_lexer": "ipython3",
   "version": "3.8.10"
  },
  "orig_nbformat": 4
 },
 "nbformat": 4,
 "nbformat_minor": 2
}
